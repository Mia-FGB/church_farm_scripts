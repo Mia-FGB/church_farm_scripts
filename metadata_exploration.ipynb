{
 "cells": [
  {
   "cell_type": "markdown",
   "metadata": {},
   "source": [
    "# Metadata\n",
    "\n",
    "Data from:\n",
    "[Google Sheet](https://docs.google.com/spreadsheets/d/1Oh7zeWlQewzo9bDmnu5cenVM5a9zddVSlzS5OcUnhaE/edit?gid=801397250#gid=801397250)\n",
    "\n",
    "Want to understand the samples:\n",
    "- How many for each year\n",
    "- Start and end dates\n",
    "- Length of samples\n",
    "- Repeats\n",
    "- DNA yields\n",
    "\n",
    "Could also look at contig stats files also in metadata\n"
   ]
  },
  {
   "cell_type": "code",
   "execution_count": 1,
   "metadata": {},
   "outputs": [],
   "source": [
    "import pandas as pd\n",
    "import numpy as np\n",
    "import matplotlib.pyplot as plt\n",
    "import seaborn as sns\n",
    "from dateutil.parser import parse"
   ]
  },
  {
   "cell_type": "markdown",
   "metadata": {},
   "source": [
    "Quite messy metadata so filling in some gaps for plotting \n",
    "- When there is no date I am going to use 15\n",
    "- When there is no start_time I am going to use 10:00\n",
    "- Adding a missing_date and missing_time col to keep track of this as well as leaving the original columns\n",
    "- Have a BST_GMT column which I m going to use to adjust the start times before combining\n",
    "- New DateTime_UTC is the one I should be using as 'start time'\n",
    "\n",
    "Saving this output so i can use it in other analysis e.g. stacked bar chart in R\n"
   ]
  },
  {
   "cell_type": "code",
   "execution_count": null,
   "metadata": {},
   "outputs": [],
   "source": [
    "import pandas as pd\n",
    "\n",
    "def parse_metadata(df):\n",
    "\n",
    "    # Fill missing dates with the 15th of the month - currently DD in the metadata\n",
    "    df.loc[df['Date_Collected'].str.contains('DD', na=False), 'Date_Collected'] = df['Date_Collected'].str.replace('DD', '15')\n",
    "  \n",
    "    # Convert Date_Collected to datetime\n",
    "    df['Date_Collected'] = pd.to_datetime(df['Date_Collected'], format='%d/%m/%y', errors='coerce')\n",
    "\n",
    "    # Fill missing Start_Time with 10:00\n",
    "    df['Start_Time'] = df['Start_Time'].fillna('10:00')\n",
    "\n",
    "    # Convert Start_Time to timedelta for calculations\n",
    "    df['Start_Time'] = pd.to_timedelta(df['Start_Time'] + ':00')  # Ensuring HH:MM:SS format\n",
    "\n",
    "    # Combine Date and Time\n",
    "    df['DateTime_UTC'] = df['Date_Collected'] + df['Start_Time']\n",
    "\n",
    "    # Adjust for BST (convert BST times to UTC)\n",
    "    df.loc[df['BST_GMT'] == 'BST', 'DateTime_UTC'] -= pd.Timedelta(hours=1)\n",
    "\n",
    "    # Ensure final DateTime is in proper format\n",
    "    df['DateTime_UTC'] = pd.to_datetime(df['DateTime_UTC'], errors='coerce')\n",
    "\n",
    "    return df\n",
    "\n",
    "def clean_sample_id(sample_id):\n",
    "    if pd.isna(sample_id):\n",
    "        return sample_id\n",
    "    if ':' in sample_id:\n",
    "        return sample_id.split(':')[1].strip()\n",
    "    return sample_id.strip()\n",
    "\n",
    "def transform_sample_id(sample_id):\n",
    "    # Skip transformation if sample_id is NaN or empty\n",
    "    if pd.isna(sample_id) or sample_id.strip() == '':\n",
    "        return sample_id\n",
    "\n",
    "    # Handle specific cases\n",
    "    specific_cases = {\n",
    "        'May_10_12_1': '14_05_24_(1)',\n",
    "        'May_10_12_2': '14_05_24_(2)',\n",
    "        'June_10_12_1': '18_06_24_(1)',\n",
    "        'June_10_12_2': '18_06_24_(2)',\n",
    "        'ChurchFarm1_Jul24': '25_07_24_(1)',\n",
    "        'ChurchFarm2_Jul24': '25_07_24_(2)',\n",
    "        'ChurchFarm1_Oct24': '17_10_24_(1)',\n",
    "        'ChurchFarm2_Oct24': '17_10_24_(2)',\n",
    "        'Reg_57_Pos' : 'Positive',\n",
    "        'Reg_65_Neg' : 'Negative',\n",
    "        # Add more specific cases here if needed\n",
    "    }\n",
    "    if sample_id in specific_cases:\n",
    "        return specific_cases[sample_id]\n",
    "\n",
    "    # General transformation for IDs like Reg_1_031022\n",
    "    if sample_id.startswith('Reg_'):\n",
    "        parts = sample_id.split('_')\n",
    "        if len(parts) == 3:\n",
    "            # Extract the date and reformat it\n",
    "            date_part = parts[2]\n",
    "            if len(date_part) == 6:  # Ensure the date part is in DDMMYY format\n",
    "                day = date_part[:2]\n",
    "                month = date_part[2:4]\n",
    "                year = date_part[4:]\n",
    "                repeat = metadata.loc[metadata['Sample_ID'] == sample_id, 'Repeat'].values[0]\n",
    "                return f\"{day}_{month}_{year}_({repeat})\"\n",
    "    return sample_id  # Return as-is if it doesn't match the expected format\n",
    "\n",
    "\n",
    "\n",
    "\n",
    "# Read in data\n",
    "metadata = pd.read_csv('/Users/berelsom/Library/CloudStorage/OneDrive-NorwichBioScienceInstitutes/Air_Samples/Church_farm/metadata/All metadata - Regular CF collections (2023 & 2024).tsv', sep='\\t')  \n",
    "\n",
    "# Clean dates\n",
    "metadata = parse_metadata(metadata)\n",
    "# Clean the Sample_ID column\n",
    "metadata['Sample_ID'] = metadata['Sample_ID'].apply(clean_sample_id)\n",
    "\n",
    "#Order by date\n",
    "metadata = metadata.sort_values(by='Date_Collected')\n",
    "# Reset index after sorting\n",
    "metadata.reset_index(drop=True, inplace=True)\n",
    "# Add a repeat column to differentiate samples collected on the same date\n",
    "metadata['Repeat'] = metadata.groupby('Date_Collected').cumcount() + 1\n",
    "# Convert the Repeat column to integer, handling NaN values\n",
    "metadata['Repeat'] = metadata['Repeat'].fillna(0).astype(int)\n",
    "\n",
    "# Generate a new column Nice_ID based on transformed Sample_ID\n",
    "metadata['Nice_ID'] = metadata['Sample_ID'].apply(transform_sample_id)\n",
    "\n",
    "# Generate Sample column for grouping \n",
    "metadata['Sample'] = metadata['Nice_ID'].str.split('_').str[:3].str.join('_')"
   ]
  },
  {
   "cell_type": "code",
   "execution_count": 34,
   "metadata": {},
   "outputs": [
    {
     "data": {
      "text/plain": [
       "array(['Reg_1_031022', 'Reg_2_031022', 'Reg_3_011122', 'Reg_4_011122',\n",
       "       'Reg_5_011222', 'Reg_6_011222', 'Reg_7_010123', 'Reg_8_010123',\n",
       "       'Reg_9_010223', 'Reg_10_010223', 'Reg_11_010323', 'Reg_12_010323',\n",
       "       'Reg_14_010423', 'Reg_13_010423', 'Reg_15_250523', 'Reg_16_250523',\n",
       "       'Reg_17_020623', 'Reg_18_020623', 'Reg_19_060623', 'Reg_20_140623',\n",
       "       'Reg_21_140623', 'Reg_22_210623', 'Reg_23_210623', 'Reg_24_300623',\n",
       "       'Reg_25_300623', 'Reg_27_070723', 'Reg_26_070723', 'Reg_28_120723',\n",
       "       'Reg_29_120723', 'Reg_30_200723', 'Reg_31_200723', 'Reg_32_270723',\n",
       "       'Reg_33_270723', 'Reg_34_030823', 'Reg_35_030823', 'Reg_36_090823',\n",
       "       'Reg_37_090823', 'Reg_38_170823', 'Reg_39_170823', 'Reg_2_070224',\n",
       "       'Reg_1_070224', 'Reg_3_120224', 'Reg_4_120224', 'Reg_5_210224',\n",
       "       'Reg_6_210224', 'Reg_7_270224', 'Reg_8_270224', 'Reg_9_060324',\n",
       "       'Reg_10_060324', 'Reg_11_110324', 'Reg_12_110324', 'Reg_14_190324',\n",
       "       'Reg_13_190324', 'Reg_15_270324', 'Reg_16_270324', 'Reg_17_040424',\n",
       "       'Reg_18_040424', 'Reg_19_100424', 'Reg_20_100424', 'Reg_21_170424',\n",
       "       'Reg_22_170424', 'Reg_23_290424', 'Reg_24_290424', 'May_10_12_1',\n",
       "       'May_10_12_2', 'Reg_26_230524', 'Reg_25_230524', 'Reg_27_290524',\n",
       "       'Reg_28_290524', 'Reg_29_110624', 'Reg_30_110624', 'June_10_12_1',\n",
       "       'June_10_12_2', 'Reg_31_260624', 'Reg_32_260624', 'Reg_33_020724',\n",
       "       'Reg_34_020724', 'Reg_36_100724', 'Reg_35_100724', 'Reg_37_180724',\n",
       "       'Reg_38_180724', 'Reg_39_240724', 'Reg_40_240724',\n",
       "       'ChurchFarm1_Jul24', 'ChurchFarm2_Jul24', 'Reg_41_010824',\n",
       "       'Reg_42_010824', 'Reg_43_070824', 'Reg_44_070824', 'Reg_46_140824',\n",
       "       'Reg_45_140824', 'Reg_47_210824', 'Reg_48_280824', 'Reg_49_040924',\n",
       "       'Reg_50_040924', 'Reg_51_100924', 'Reg_52_100924', 'Reg_53_180924',\n",
       "       'Reg_54_180924', 'Reg_55_270924', 'Reg_56_270924',\n",
       "       'ChurchFarm1_Oct24', 'ChurchFarm2_Oct24', nan, 'Reg_57_Pos',\n",
       "       'Reg_65_Neg'], dtype=object)"
      ]
     },
     "execution_count": 34,
     "metadata": {},
     "output_type": "execute_result"
    }
   ],
   "source": [
    "metadata['Sample_ID'].unique()"
   ]
  },
  {
   "cell_type": "code",
   "execution_count": null,
   "metadata": {},
   "outputs": [],
   "source": [
    "# metadata.to_csv('../metadata/metadata_cleaned.tsv', sep='\\t', index=False)\n"
   ]
  },
  {
   "cell_type": "markdown",
   "metadata": {},
   "source": [
    "## Calculate some stats from the metadata\n",
    "\n",
    "- How many samples per year (and month)\n",
    "- Earliest and latest sample from each year\n",
    "- Plot of DNA yield (maybe hue by Collection_Length_Min)"
   ]
  },
  {
   "cell_type": "code",
   "execution_count": 124,
   "metadata": {},
   "outputs": [
    {
     "name": "stdout",
     "output_type": "stream",
     "text": [
      "There are 107 samples in the dataset\n",
      "There are 105 unique Sample_IDs in the dataset\n",
      "Year\n",
      "2024.0    64\n",
      "2023.0    33\n",
      "2022.0     6\n",
      "Name: count, dtype: int64\n",
      "Month   Apr  Aug  Dec  Feb  Jan  Jul  Jun  Mar  May  Nov  Oct  Sep\n",
      "Year                                                              \n",
      "2022.0    0    0    2    0    0    0    0    0    0    2    2    0\n",
      "2023.0    2    6    0    2    2    8    9    2    2    0    0    0\n",
      "2024.0    8    8    0    8    0   10    6    8    6    0    2    8\n"
     ]
    }
   ],
   "source": [
    "# How many samples are there?\n",
    "print(f'There are {metadata.shape[0]} samples in the dataset')\n",
    "\n",
    "# How many unique Sample_IDs are there? (2xNaNs)\n",
    "print(f'There are {metadata[\"Sample_ID\"].nunique()} unique Sample_IDs in the dataset')\n",
    "\n",
    "#How many samples are there for each year\n",
    "metadata['Year'] = metadata['DateTime_UTC'].dt.year\n",
    "print(metadata['Year'].value_counts())\n",
    "\n",
    "# How many samples are there for each month\n",
    "metadata['Month'] = metadata['DateTime_UTC'].dt.strftime('%b')\n",
    "# How many samples are there for each month by year\n",
    "print(metadata.groupby(['Year', 'Month']).size().unstack(fill_value=0))"
   ]
  },
  {
   "cell_type": "code",
   "execution_count": 125,
   "metadata": {},
   "outputs": [
    {
     "data": {
      "image/png": "[encoded data removed]",
      "text/plain": [
       "<Figure size 585.5x500 with 1 Axes>"
      ]
     },
     "metadata": {},
     "output_type": "display_data"
    }
   ],
   "source": [
    "metadata['Year'] = metadata['Year'].astype(str).str.split('.').str[0]  # Clean 'Year'\n",
    "fil_metadata = metadata[(metadata['Year'] != 'nan')]\n",
    "\n",
    "\n",
    "# Plot the number of samples by month\n",
    "sns.catplot(data=fil_metadata,\n",
    "            x='Month',\n",
    "            kind='count',\n",
    "            order=['Jan', 'Feb', 'Mar', 'Apr', 'May', 'Jun', 'Jul', 'Aug', 'Sep', 'Oct', 'Nov', 'Dec'],\n",
    "            hue='Year',\n",
    "            palette='colorblind')\n",
    "\n",
    "ylabel = plt.ylabel('Number of samples')\n",
    "# plt.savefig('../Graphs/Number_of_samples_by_month.svg')"
   ]
  },
  {
   "cell_type": "markdown",
   "metadata": {},
   "source": [
    "## DNA yield\n",
    "\n",
    "- consider pre and post WGA\n",
    "- 2023 - WGA\n",
    "- 2024 no WGA just initial DNA conc"
   ]
  },
  {
   "cell_type": "code",
   "execution_count": 129,
   "metadata": {},
   "outputs": [
    {
     "name": "stderr",
     "output_type": "stream",
     "text": [
      "/var/folders/ns/9skdzql508n7rzzgbqpc2wpw000f7r/T/ipykernel_7186/3576719391.py:4: SettingWithCopyWarning: \n",
      "A value is trying to be set on a copy of a slice from a DataFrame.\n",
      "Try using .loc[row_indexer,col_indexer] = value instead\n",
      "\n",
      "See the caveats in the documentation: https://pandas.pydata.org/pandas-docs/stable/user_guide/indexing.html#returning-a-view-versus-a-copy\n",
      "  fil_metadata[column] = pd.to_numeric(fil_metadata[column], errors='coerce')\n"
     ]
    }
   ],
   "source": [
    "columns_to_convert = ['DNA_Concentration_(ng/ul)', 'DNA_Concentration_WGA_(ng/ul)']\n",
    "\n",
    "for column in columns_to_convert:\n",
    "    fil_metadata[column] = pd.to_numeric(fil_metadata[column], errors='coerce')"
   ]
  },
  {
   "cell_type": "code",
   "execution_count": 136,
   "metadata": {},
   "outputs": [
    {
     "data": {
      "image/png": "[encoded data removed]",
      "text/plain": [
       "<Figure size 640x480 with 1 Axes>"
      ]
     },
     "metadata": {},
     "output_type": "display_data"
    }
   ],
   "source": [
    "fil_metadata['Collection_Length_Min'] = fil_metadata['Collection_Length_Min'].astype(str).str.split('.').str[0]  # Clean 'Year'\n",
    "\n",
    "# Filter out samples with Collection_Length_Min equal to 60\n",
    "fil_metadata = fil_metadata[fil_metadata['Collection_Length_Min'] != '60']\n",
    "\n",
    "sns.boxplot(\n",
    "    data=fil_metadata,\n",
    "    x='Collection_Length_Min',\n",
    "    y='DNA_Concentration_(ng/ul)',\n",
    "    palette='colorblind'\n",
    ")\n",
    "\n",
    "ylabel = plt.ylabel('DNA Concentration (ng/ul)')\n",
    "xlabel = plt.xlabel('Collection Length (min)')\n",
    "plt.savefig('../Graphs/DNA_concentration_vs_collection_length.svg')"
   ]
  },
  {
   "cell_type": "code",
   "execution_count": null,
   "metadata": {},
   "outputs": [],
   "source": []
  }
 ],
 "metadata": {
  "kernelspec": {
   "display_name": "24hr_env",
   "language": "python",
   "name": "python3"
  },
  "language_info": {
   "codemirror_mode": {
    "name": "ipython",
    "version": 3
   },
   "file_extension": ".py",
   "mimetype": "text/x-python",
   "name": "python",
   "nbconvert_exporter": "python",
   "pygments_lexer": "ipython3",
   "version": "3.9.18"
  }
 },
 "nbformat": 4,
 "nbformat_minor": 2
}
