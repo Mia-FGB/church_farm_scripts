{
 "cells": [
  {
   "cell_type": "markdown",
   "metadata": {},
   "source": [
    "# Read in & analyse the CIMMYT disease score data\n",
    "\n",
    "Run in 24hr_env as the analysis is similar"
   ]
  },
  {
   "cell_type": "code",
   "execution_count": 78,
   "metadata": {},
   "outputs": [],
   "source": [
    "import pandas as pd\n",
    "import seaborn as sns\n",
    "import matplotlib.pyplot as plt\n",
    "import numpy as np"
   ]
  },
  {
   "cell_type": "markdown",
   "metadata": {},
   "source": [
    "## Read in the data\n",
    "\n",
    "Only collected once for each year 28/06/2023 & 17/06/2024"
   ]
  },
  {
   "cell_type": "code",
   "execution_count": 49,
   "metadata": {},
   "outputs": [],
   "source": [
    "disease_24 = pd.read_excel('/Users/berelsom/Library/CloudStorage/OneDrive-NorwichBioScienceInstitutes/Air_Samples/Church_farm/metadata/CIMMYT_Scoresheet_24.xlsx',\n",
    "                            skiprows=8)\n",
    "\n",
    "#Drop unnecessary cols\n",
    "disease_24 = disease_24.drop(columns=['Selection History', 'Origin', 'Rep', 'Sub Block',\n",
    "       'Entry', 'Heading', 'Height', 'Lodging',])\n",
    "\n",
    "# Change NaN to 0 in all columns except 'Selection History' and 'Plot'\n",
    "cols_to_fill = disease_24.columns.difference(['Selection History', 'Plot'])\n",
    "disease_24[cols_to_fill] = disease_24[cols_to_fill].fillna(0)\n",
    "\n",
    "#Rename Cross Name to Cross\n",
    "disease_24 = disease_24.rename(columns={'Cross Name': 'Cross'})"
   ]
  },
  {
   "cell_type": "code",
   "execution_count": 41,
   "metadata": {},
   "outputs": [
    {
     "name": "stderr",
     "output_type": "stream",
     "text": [
      "/Users/berelsom/opt/anaconda3/envs/24hr_env/lib/python3.9/site-packages/openpyxl/worksheet/header_footer.py:48: UserWarning: Cannot parse header or footer so it will be ignored\n",
      "  warn(\"\"\"Cannot parse header or footer so it will be ignored\"\"\")\n"
     ]
    }
   ],
   "source": [
    "disease_23 = pd.read_excel('/Users/berelsom/Library/CloudStorage/OneDrive-NorwichBioScienceInstitutes/Air_Samples/Church_farm/metadata/CIMMYT_Scoresheet_23.xlsx',\n",
    "                           skiprows=1)\n",
    "\n",
    "#Drop uneccesarry col\n",
    "disease_23 = disease_23.drop(columns=['Entry', 'Notes', 'Ear Emergence'])\n",
    "\n",
    "# Change - / Na to 0 in all columns except 'Ear Emergence'\n",
    "cols_to_fill = disease_23.columns.difference(['Ear Emergence'])\n",
    "disease_23[cols_to_fill] = disease_23[cols_to_fill].replace('-', 0).fillna(0)\n",
    "\n",
    "#Rename the disease cols\n",
    "disease_23 = disease_23.rename(columns={'MIL': 'Mildew',\n",
    "                                        'YR ': 'Yellow Rust',\n",
    "                                        'BR': 'Brown Rust',\n",
    "                                        'St': 'Septoria'})"
   ]
  },
  {
   "cell_type": "markdown",
   "metadata": {},
   "source": [
    "Only 6 crosses are found in both dataframes, so can't necessarily comapre at cross level. Instead want to plot averages of the different diseases in both years"
   ]
  },
  {
   "cell_type": "code",
   "execution_count": null,
   "metadata": {},
   "outputs": [
    {
     "name": "stdout",
     "output_type": "stream",
     "text": [
      "Crosses in both: 6\n",
      "Crosses in 23 only: 21\n",
      "Crosses in 24 only: 54\n"
     ]
    }
   ],
   "source": [
    "#Identify which crosses are present in both dfs, and which are just in one\n",
    "crosses_23 = set(disease_23['Cross'])\n",
    "crosses_24 = set(disease_24['Cross'])\n",
    "\n",
    "crosses_in_both = crosses_23.intersection(crosses_24)\n",
    "# crosses_in_23 = crosses_23.difference(crosses_24)\n",
    "# crosses_in_24 = crosses_24.difference(crosses_23)\n",
    "\n",
    "print(f'Crosses in both: {len(crosses_in_both)}')\n",
    "# print(f'Crosses in 23 only: {len(crosses_in_23)}')\n",
    "# print(f'Crosses in 24 only: {len(crosses_in_24)}')"
   ]
  },
  {
   "cell_type": "markdown",
   "metadata": {},
   "source": [
    "## Plot the disease data\n",
    "\n",
    "- Calculate average, and SD for each disease in 2023 & 2024\n",
    "- Plot bar graph showing all diseases for each year (colour by year)"
   ]
  },
  {
   "cell_type": "code",
   "execution_count": 122,
   "metadata": {},
   "outputs": [
    {
     "data": {
      "text/html": [
       "<div>\n",
       "<style scoped>\n",
       "    .dataframe tbody tr th:only-of-type {\n",
       "        vertical-align: middle;\n",
       "    }\n",
       "\n",
       "    .dataframe tbody tr th {\n",
       "        vertical-align: top;\n",
       "    }\n",
       "\n",
       "    .dataframe thead th {\n",
       "        text-align: right;\n",
       "    }\n",
       "</style>\n",
       "<table border=\"1\" class=\"dataframe\">\n",
       "  <thead>\n",
       "    <tr style=\"text-align: right;\">\n",
       "      <th></th>\n",
       "      <th>Mean_23</th>\n",
       "      <th>SD_23</th>\n",
       "      <th>Mean_24</th>\n",
       "      <th>SD_24</th>\n",
       "    </tr>\n",
       "  </thead>\n",
       "  <tbody>\n",
       "    <tr>\n",
       "      <th>Mildew</th>\n",
       "      <td>0.002500</td>\n",
       "      <td>0.014513</td>\n",
       "      <td>0.000</td>\n",
       "      <td>0.000000</td>\n",
       "    </tr>\n",
       "    <tr>\n",
       "      <th>Yellow Rust</th>\n",
       "      <td>24.668750</td>\n",
       "      <td>22.584001</td>\n",
       "      <td>13.972</td>\n",
       "      <td>16.625811</td>\n",
       "    </tr>\n",
       "    <tr>\n",
       "      <th>Brown Rust</th>\n",
       "      <td>0.000208</td>\n",
       "      <td>0.001443</td>\n",
       "      <td>0.180</td>\n",
       "      <td>1.149264</td>\n",
       "    </tr>\n",
       "    <tr>\n",
       "      <th>Septoria</th>\n",
       "      <td>1.427083</td>\n",
       "      <td>3.140317</td>\n",
       "      <td>14.350</td>\n",
       "      <td>13.867610</td>\n",
       "    </tr>\n",
       "  </tbody>\n",
       "</table>\n",
       "</div>"
      ],
      "text/plain": [
       "               Mean_23      SD_23  Mean_24      SD_24\n",
       "Mildew        0.002500   0.014513    0.000   0.000000\n",
       "Yellow Rust  24.668750  22.584001   13.972  16.625811\n",
       "Brown Rust    0.000208   0.001443    0.180   1.149264\n",
       "Septoria      1.427083   3.140317   14.350  13.867610"
      ]
     },
     "execution_count": 122,
     "metadata": {},
     "output_type": "execute_result"
    }
   ],
   "source": [
    "#To get the data\n",
    "disease_cols = ['Mildew', 'Yellow Rust', 'Brown Rust', 'Septoria']\n",
    "\n",
    "# Calculate mean and standard deviation for each year\n",
    "mean_sd_23 = disease_23[disease_cols].agg(['mean', 'std']).T\n",
    "mean_sd_24 = disease_24[disease_cols].agg(['mean', 'std']).T\n",
    "\n",
    "# Combine the dataframes and reshape to long format\n",
    "mean_sd = pd.concat([mean_sd_23, mean_sd_24], axis=1, keys=['2023', '2024'])\n",
    "mean_sd.columns = ['Mean_23', 'SD_23', 'Mean_24', 'SD_24']\n",
    "\n",
    "mean_sd"
   ]
  },
  {
   "cell_type": "markdown",
   "metadata": {},
   "source": [
    "To get erro bars need to plot it like this"
   ]
  },
  {
   "cell_type": "code",
   "execution_count": null,
   "metadata": {},
   "outputs": [
    {
     "data": {
      "text/html": [
       "<div>\n",
       "<style scoped>\n",
       "    .dataframe tbody tr th:only-of-type {\n",
       "        vertical-align: middle;\n",
       "    }\n",
       "\n",
       "    .dataframe tbody tr th {\n",
       "        vertical-align: top;\n",
       "    }\n",
       "\n",
       "    .dataframe thead th {\n",
       "        text-align: right;\n",
       "    }\n",
       "</style>\n",
       "<table border=\"1\" class=\"dataframe\">\n",
       "  <thead>\n",
       "    <tr style=\"text-align: right;\">\n",
       "      <th></th>\n",
       "      <th>Plot</th>\n",
       "      <th>Cross</th>\n",
       "      <th>Disease</th>\n",
       "      <th>Score</th>\n",
       "      <th>Year</th>\n",
       "    </tr>\n",
       "  </thead>\n",
       "  <tbody>\n",
       "    <tr>\n",
       "      <th>0</th>\n",
       "      <td>1</td>\n",
       "      <td>KWS-COCHISE</td>\n",
       "      <td>Mildew</td>\n",
       "      <td>0.0</td>\n",
       "      <td>2023</td>\n",
       "    </tr>\n",
       "    <tr>\n",
       "      <th>1</th>\n",
       "      <td>2</td>\n",
       "      <td>NINGA #1</td>\n",
       "      <td>Mildew</td>\n",
       "      <td>0.0</td>\n",
       "      <td>2023</td>\n",
       "    </tr>\n",
       "    <tr>\n",
       "      <th>2</th>\n",
       "      <td>3</td>\n",
       "      <td>BCN/WBLL1//ROLF07/3/BORL14</td>\n",
       "      <td>Mildew</td>\n",
       "      <td>0.0</td>\n",
       "      <td>2023</td>\n",
       "    </tr>\n",
       "    <tr>\n",
       "      <th>3</th>\n",
       "      <td>4</td>\n",
       "      <td>QUAIU/BORL14</td>\n",
       "      <td>Mildew</td>\n",
       "      <td>0.0</td>\n",
       "      <td>2023</td>\n",
       "    </tr>\n",
       "    <tr>\n",
       "      <th>4</th>\n",
       "      <td>5</td>\n",
       "      <td>REEDLING-GL5A_1/QUAIU</td>\n",
       "      <td>Mildew</td>\n",
       "      <td>0.0</td>\n",
       "      <td>2023</td>\n",
       "    </tr>\n",
       "    <tr>\n",
       "      <th>...</th>\n",
       "      <td>...</td>\n",
       "      <td>...</td>\n",
       "      <td>...</td>\n",
       "      <td>...</td>\n",
       "      <td>...</td>\n",
       "    </tr>\n",
       "    <tr>\n",
       "      <th>395</th>\n",
       "      <td>96</td>\n",
       "      <td>LG-Astronomer</td>\n",
       "      <td>Brown Rust</td>\n",
       "      <td>0.0</td>\n",
       "      <td>2024</td>\n",
       "    </tr>\n",
       "    <tr>\n",
       "      <th>396</th>\n",
       "      <td>97</td>\n",
       "      <td>LG-Skyscraper</td>\n",
       "      <td>Brown Rust</td>\n",
       "      <td>0.0</td>\n",
       "      <td>2024</td>\n",
       "    </tr>\n",
       "    <tr>\n",
       "      <th>397</th>\n",
       "      <td>98</td>\n",
       "      <td>KWS-Zyatt</td>\n",
       "      <td>Brown Rust</td>\n",
       "      <td>0.0</td>\n",
       "      <td>2024</td>\n",
       "    </tr>\n",
       "    <tr>\n",
       "      <th>398</th>\n",
       "      <td>99</td>\n",
       "      <td>SY-Insitor</td>\n",
       "      <td>Brown Rust</td>\n",
       "      <td>0.0</td>\n",
       "      <td>2024</td>\n",
       "    </tr>\n",
       "    <tr>\n",
       "      <th>399</th>\n",
       "      <td>100</td>\n",
       "      <td>Graham</td>\n",
       "      <td>Brown Rust</td>\n",
       "      <td>0.0</td>\n",
       "      <td>2024</td>\n",
       "    </tr>\n",
       "  </tbody>\n",
       "</table>\n",
       "<p>592 rows × 5 columns</p>\n",
       "</div>"
      ],
      "text/plain": [
       "     Plot                       Cross     Disease  Score  Year\n",
       "0       1                 KWS-COCHISE      Mildew    0.0  2023\n",
       "1       2                    NINGA #1      Mildew    0.0  2023\n",
       "2       3  BCN/WBLL1//ROLF07/3/BORL14      Mildew    0.0  2023\n",
       "3       4                QUAIU/BORL14      Mildew    0.0  2023\n",
       "4       5       REEDLING-GL5A_1/QUAIU      Mildew    0.0  2023\n",
       "..    ...                         ...         ...    ...   ...\n",
       "395    96               LG-Astronomer  Brown Rust    0.0  2024\n",
       "396    97               LG-Skyscraper  Brown Rust    0.0  2024\n",
       "397    98                   KWS-Zyatt  Brown Rust    0.0  2024\n",
       "398    99                  SY-Insitor  Brown Rust    0.0  2024\n",
       "399   100                      Graham  Brown Rust    0.0  2024\n",
       "\n",
       "[592 rows x 5 columns]"
      ]
     },
     "execution_count": 92,
     "metadata": {},
     "output_type": "execute_result"
    }
   ],
   "source": [
    "# Melt dfs\n",
    "melt_23 = disease_23.melt(id_vars=[\"Plot\", \"Cross\"], \n",
    "                     var_name=\"Disease\", \n",
    "                     value_name=\"Score\")\n",
    "\n",
    "melt_24 = disease_24.melt(id_vars=[\"Plot\", \"Cross\"],\n",
    "                     var_name=\"Disease\",\n",
    "                     value_name=\"Score\")\n",
    "# add column for year\n",
    "melt_23['Year'] = 2023\n",
    "melt_24['Year'] = 2024\n",
    "\n",
    "# Combine the dfs\n",
    "all_disease = pd.concat([melt_23, melt_24])"
   ]
  },
  {
   "cell_type": "code",
   "execution_count": 121,
   "metadata": {},
   "outputs": [
    {
     "data": {
      "text/plain": [
       "<Figure size 1000x600 with 0 Axes>"
      ]
     },
     "metadata": {},
     "output_type": "display_data"
    },
    {
     "data": {
      "image/png": "[encoded data removed]",
      "text/plain": [
       "<Figure size 589x500 with 1 Axes>"
      ]
     },
     "metadata": {},
     "output_type": "display_data"
    }
   ],
   "source": [
    "sns.set_style(\"ticks\")\n",
    "\n",
    "# Set the width and height of the figure\n",
    "plt.figure(figsize=(10,6))\n",
    "\n",
    "# Convert the 'Year' column to string type\n",
    "all_disease['Year'] = all_disease['Year'].astype(str)\n",
    "all_disease = all_disease.sort_values('Disease')\n",
    "\n",
    "# Plot the data\n",
    "sns.catplot(data=all_disease, \n",
    "            x='Disease', \n",
    "            y='Score', \n",
    "            hue='Year', \n",
    "            kind='bar',\n",
    "            palette='colorblind')\n",
    "\n",
    "#Add Y label \n",
    "plt.ylabel('Disease Score (%)')\n",
    "\n",
    "# Save the plot\n",
    "plt.savefig('/Users/berelsom/Library/CloudStorage/OneDrive-NorwichBioScienceInstitutes/Air_Samples/Church_farm/Graphs/disease_scores.svg',\n",
    "             dpi=300, bbox_inches='tight')"
   ]
  },
  {
   "cell_type": "code",
   "execution_count": null,
   "metadata": {},
   "outputs": [],
   "source": []
  }
 ],
 "metadata": {
  "kernelspec": {
   "display_name": "24hr_env",
   "language": "python",
   "name": "python3"
  },
  "language_info": {
   "codemirror_mode": {
    "name": "ipython",
    "version": 3
   },
   "file_extension": ".py",
   "mimetype": "text/x-python",
   "name": "python",
   "nbconvert_exporter": "python",
   "pygments_lexer": "ipython3",
   "version": "3.9.18"
  }
 },
 "nbformat": 4,
 "nbformat_minor": 2
}
